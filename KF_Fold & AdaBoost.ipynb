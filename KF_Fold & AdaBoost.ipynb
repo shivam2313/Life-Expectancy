{
 "cells": [
  {
   "cell_type": "code",
   "execution_count": 1,
   "metadata": {},
   "outputs": [],
   "source": [
    "#Load packages\n",
    "import pandas as pd\n",
    "import numpy as np\n",
    "from matplotlib import pyplot as plt\n",
    "from sklearn.tree import DecisionTreeRegressor\n",
    "from sklearn.linear_model import Lasso\n",
    "from sklearn.model_selection import train_test_split\n",
    "from sklearn.model_selection import KFold\n",
    "from sklearn.model_selection import GridSearchCV\n",
    "from sklearn.ensemble import RandomForestRegressor\n",
    "from sklearn.ensemble import AdaBoostRegressor\n",
    "from sklearn.tree import export_graphviz\n",
    "import statsmodels.api as sm\n",
    "from subprocess import call\n",
    "from IPython.display import Image\n",
    "from matplotlib import pyplot as plt\n",
    "from matplotlib.pyplot import plot, show, savefig, xlim, figure, ylim, legend, boxplot, setp, axes"
   ]
  },
  {
   "cell_type": "code",
   "execution_count": 2,
   "metadata": {},
   "outputs": [],
   "source": [
    "#Suppress deprecation warnings..\n",
    "import warnings\n",
    "warnings.filterwarnings(\"ignore\", category=DeprecationWarning) "
   ]
  },
  {
   "cell_type": "code",
   "execution_count": 3,
   "metadata": {},
   "outputs": [
    {
     "data": {
      "text/html": [
       "<div>\n",
       "<style scoped>\n",
       "    .dataframe tbody tr th:only-of-type {\n",
       "        vertical-align: middle;\n",
       "    }\n",
       "\n",
       "    .dataframe tbody tr th {\n",
       "        vertical-align: top;\n",
       "    }\n",
       "\n",
       "    .dataframe thead th {\n",
       "        text-align: right;\n",
       "    }\n",
       "</style>\n",
       "<table border=\"1\" class=\"dataframe\">\n",
       "  <thead>\n",
       "    <tr style=\"text-align: right;\">\n",
       "      <th></th>\n",
       "      <th>Population</th>\n",
       "      <th>Income</th>\n",
       "      <th>Illiteracy</th>\n",
       "      <th>LifeExp</th>\n",
       "      <th>Murder</th>\n",
       "      <th>HighSchoolGrad</th>\n",
       "      <th>Frost</th>\n",
       "      <th>Area</th>\n",
       "      <th>Longitude</th>\n",
       "      <th>Latitude</th>\n",
       "      <th>Region</th>\n",
       "    </tr>\n",
       "  </thead>\n",
       "  <tbody>\n",
       "    <tr>\n",
       "      <th>0</th>\n",
       "      <td>3615</td>\n",
       "      <td>3624</td>\n",
       "      <td>2.1</td>\n",
       "      <td>69.05</td>\n",
       "      <td>15.1</td>\n",
       "      <td>41.3</td>\n",
       "      <td>20</td>\n",
       "      <td>50708</td>\n",
       "      <td>-86.7509</td>\n",
       "      <td>32.5901</td>\n",
       "      <td>South</td>\n",
       "    </tr>\n",
       "    <tr>\n",
       "      <th>1</th>\n",
       "      <td>365</td>\n",
       "      <td>6315</td>\n",
       "      <td>1.5</td>\n",
       "      <td>69.31</td>\n",
       "      <td>11.3</td>\n",
       "      <td>66.7</td>\n",
       "      <td>152</td>\n",
       "      <td>566432</td>\n",
       "      <td>-127.2500</td>\n",
       "      <td>49.2500</td>\n",
       "      <td>West</td>\n",
       "    </tr>\n",
       "    <tr>\n",
       "      <th>2</th>\n",
       "      <td>2212</td>\n",
       "      <td>4530</td>\n",
       "      <td>1.8</td>\n",
       "      <td>70.55</td>\n",
       "      <td>7.8</td>\n",
       "      <td>58.1</td>\n",
       "      <td>15</td>\n",
       "      <td>113417</td>\n",
       "      <td>-111.6250</td>\n",
       "      <td>34.2192</td>\n",
       "      <td>West</td>\n",
       "    </tr>\n",
       "    <tr>\n",
       "      <th>3</th>\n",
       "      <td>2110</td>\n",
       "      <td>3378</td>\n",
       "      <td>1.9</td>\n",
       "      <td>70.66</td>\n",
       "      <td>10.1</td>\n",
       "      <td>39.9</td>\n",
       "      <td>65</td>\n",
       "      <td>51945</td>\n",
       "      <td>-92.2992</td>\n",
       "      <td>34.7336</td>\n",
       "      <td>South</td>\n",
       "    </tr>\n",
       "    <tr>\n",
       "      <th>4</th>\n",
       "      <td>21198</td>\n",
       "      <td>5114</td>\n",
       "      <td>1.1</td>\n",
       "      <td>71.71</td>\n",
       "      <td>10.3</td>\n",
       "      <td>62.6</td>\n",
       "      <td>20</td>\n",
       "      <td>156361</td>\n",
       "      <td>-119.7730</td>\n",
       "      <td>36.5341</td>\n",
       "      <td>West</td>\n",
       "    </tr>\n",
       "  </tbody>\n",
       "</table>\n",
       "</div>"
      ],
      "text/plain": [
       "   Population  Income  Illiteracy  LifeExp  Murder  HighSchoolGrad  Frost  \\\n",
       "0        3615    3624         2.1    69.05    15.1            41.3     20   \n",
       "1         365    6315         1.5    69.31    11.3            66.7    152   \n",
       "2        2212    4530         1.8    70.55     7.8            58.1     15   \n",
       "3        2110    3378         1.9    70.66    10.1            39.9     65   \n",
       "4       21198    5114         1.1    71.71    10.3            62.6     20   \n",
       "\n",
       "     Area  Longitude  Latitude Region  \n",
       "0   50708   -86.7509   32.5901  South  \n",
       "1  566432  -127.2500   49.2500   West  \n",
       "2  113417  -111.6250   34.2192   West  \n",
       "3   51945   -92.2992   34.7336  South  \n",
       "4  156361  -119.7730   36.5341   West  "
      ]
     },
     "execution_count": 3,
     "metadata": {},
     "output_type": "execute_result"
    }
   ],
   "source": [
    "#Read data\n",
    "data = pd.read_csv('StateData.csv')\n",
    "data.head()"
   ]
  },
  {
   "cell_type": "code",
   "execution_count": 4,
   "metadata": {},
   "outputs": [],
   "source": [
    "#Get targets and features\n",
    "target = data.LifeExp\n",
    "features = data.drop(['LifeExp','Longitude','Latitude','Region'],axis=1)"
   ]
  },
  {
   "cell_type": "code",
   "execution_count": 5,
   "metadata": {},
   "outputs": [
    {
     "name": "stdout",
     "output_type": "stream",
     "text": [
      "CART average R-squared: -0.17150529802408726\n",
      "Lasso average R-squared: -0.15168249361018935\n"
     ]
    }
   ],
   "source": [
    "#Choose models\n",
    "dtree = DecisionTreeRegressor()\n",
    "lass = Lasso()\n",
    "\n",
    "#Choose set of hyperparams\n",
    "params1 = {'min_samples_leaf':[1,2,3,4,5,6,7,8,9,10]}\n",
    "params2 = {'alpha':[0.001,0.01,0.1,1,10]}\n",
    "\n",
    "#Lists to store R-squared\n",
    "tree_score = []\n",
    "lasso_score = []\n",
    "\n",
    "#Kfold\n",
    "kf = KFold(10,random_state=21,shuffle=True)\n",
    "\n",
    "#Loop over each fold\n",
    "for train_index, test_index in kf.split(features):\n",
    "    \n",
    "    #Get the training and testing sets\n",
    "    X_train, X_test = features.loc[train_index], features.loc[test_index]\n",
    "    y_train, y_test = target[train_index], target[test_index]\n",
    "    \n",
    "    #Train/test CART\n",
    "    clf = GridSearchCV(dtree, params1, cv=10)\n",
    "    clf.fit(X_train,y_train)\n",
    "    tree_score.append(clf.best_estimator_.score(X_test,y_test))\n",
    "    \n",
    "    #Train/test Lasso\n",
    "    clf_lass = GridSearchCV(lass, params2, cv=10)\n",
    "    clf_lass.fit(X_train,y_train)\n",
    "    lasso_score.append(clf_lass.best_estimator_.score(X_test,y_test))\n",
    "    \n",
    "#Print average R-squared\n",
    "print('CART average R-squared:', np.mean(tree_score))\n",
    "print('Lasso average R-squared:', np.mean(lasso_score))\n",
    "#The R-squared keeps changing with different seeds (even with cross validation)."
   ]
  },
  {
   "cell_type": "code",
   "execution_count": 6,
   "metadata": {},
   "outputs": [
    {
     "name": "stdout",
     "output_type": "stream",
     "text": [
      "CART average R-squared: 0.2736407065668388\n",
      "Lasso average R-squared: 0.3189129265043138\n"
     ]
    }
   ],
   "source": [
    "#Storage\n",
    "tree_score = []\n",
    "lasso_score = []\n",
    "\n",
    "#Models\n",
    "dtree = DecisionTreeRegressor()\n",
    "lass = Lasso()\n",
    "\n",
    "#Hyper-parameters\n",
    "params1 = {'min_samples_leaf':[1,2,3,4,5,6,7,8,9,10]}\n",
    "params2 = {'alpha':[0.001,0.01,0.1,1,10]}\n",
    "\n",
    "#Kfold loop\n",
    "kf = KFold(3,random_state=21,shuffle=True)\n",
    "for train_index, test_index in kf.split(features):\n",
    "    #Split data\n",
    "    X_train, X_test = features.loc[train_index], features.loc[test_index]\n",
    "    y_train, y_test = target[train_index], target[test_index]\n",
    "    #CART\n",
    "    clf = GridSearchCV(dtree, params1, cv=3)\n",
    "    clf.fit(X_train,y_train)\n",
    "    tree_score.append(clf.best_estimator_.score(X_test,y_test))\n",
    "    #LASSO\n",
    "    clf_lass = GridSearchCV(lass, params2, cv=3)\n",
    "    clf_lass.fit(X_train,y_train)\n",
    "    lasso_score.append(clf_lass.best_estimator_.score(X_test,y_test))\n",
    "    \n",
    "#Print results\n",
    "print('CART average R-squared:', np.mean(tree_score))\n",
    "print('Lasso average R-squared:', np.mean(lasso_score))\n",
    "#Seems to help a bit (still lots of variability but better performance). Data is small so ten fold CV creates \n",
    "#very small sets (i.e., test set of 5). Due to the randomness and differences between observations\n",
    "#the model appears very sensitive to the small traiing, testing, validation sets."
   ]
  },
  {
   "cell_type": "code",
   "execution_count": 7,
   "metadata": {},
   "outputs": [
    {
     "name": "stdout",
     "output_type": "stream",
     "text": [
      "CART average R-squared: 0.23121439667831314\n",
      "Lasso average R-squared: 0.36587467625001674\n"
     ]
    }
   ],
   "source": [
    "#Storage\n",
    "tree_score = []\n",
    "lasso_score = []\n",
    "\n",
    "#Models\n",
    "dtree = DecisionTreeRegressor()\n",
    "lass = Lasso()\n",
    "\n",
    "#Hyper-parameters\n",
    "params1 = {'min_samples_leaf':[1,2,3,4,5,6,7,8,9,10]}\n",
    "params2 = {'alpha':[0.001,0.01,0.1,1,10]}\n",
    "\n",
    "#Repetitions\n",
    "reps = range(25)\n",
    "for rep in reps:\n",
    "    \n",
    "    #Kfold loop\n",
    "    kf = KFold(3,random_state=rep*10,shuffle=True)\n",
    "    for train_index, test_index in kf.split(features):\n",
    "        #Split dat\n",
    "        X_train, X_test = features.loc[train_index], features.loc[test_index]\n",
    "        y_train, y_test = target[train_index], target[test_index]\n",
    "        #CART\n",
    "        clf = GridSearchCV(dtree, params1, cv=3)\n",
    "        clf.fit(X_train,y_train)\n",
    "        tree_score.append(clf.best_estimator_.score(X_test,y_test))\n",
    "        #LASSO\n",
    "        clf_lass = GridSearchCV(lass, params2, cv=3)\n",
    "        clf_lass.fit(X_train,y_train)\n",
    "        lasso_score.append(clf_lass.best_estimator_.score(X_test,y_test))\n",
    "        \n",
    "#Print results\n",
    "print('CART average R-squared:', np.mean(tree_score))\n",
    "print('Lasso average R-squared:', np.mean(lasso_score))"
   ]
  },
  {
   "cell_type": "code",
   "execution_count": 8,
   "metadata": {},
   "outputs": [
    {
     "data": {
      "image/png": "[encoded data removed]",
      "text/plain": [
       "<Figure size 1080x432 with 1 Axes>"
      ]
     },
     "metadata": {
      "needs_background": "light"
     },
     "output_type": "display_data"
    }
   ],
   "source": [
    "fig = figure(figsize=(15, 6))\n",
    "plt.boxplot([tree_score,lasso_score])\n",
    "plt.xlabel('Model')\n",
    "locs,junk = plt.xticks()\n",
    "plt.xticks(locs,['CART','Lasso'])\n",
    "plt.ylabel('R-squared')\n",
    "plt.show()\n",
    "#Lasso seems to perform the best"
   ]
  },
  {
   "cell_type": "code",
   "execution_count": null,
   "metadata": {},
   "outputs": [],
   "source": [
    "#Results are still concerning due to the large range in R-squared (Model sometimes performs really bad)."
   ]
  },
  {
   "cell_type": "code",
   "execution_count": 16,
   "metadata": {},
   "outputs": [
    {
     "name": "stdout",
     "output_type": "stream",
     "text": [
      "CART average R-squared: 0.19289481937927236\n",
      "Lasso average R-squared: 0.4417468375587395\n",
      "Ada average R-squared: 0.3980069082571023\n",
      "RF average R-squared: 0.44460985070677256\n"
     ]
    }
   ],
   "source": [
    "#Storage\n",
    "tree_score = []\n",
    "lasso_score = []\n",
    "ada_score = []\n",
    "RF_score = []\n",
    "\n",
    "#Models\n",
    "dtree = DecisionTreeRegressor()\n",
    "lass = Lasso()\n",
    "ada = AdaBoostRegressor()\n",
    "RF = RandomForestRegressor()\n",
    "\n",
    "#Hyperparameters\n",
    "params1 = {'min_samples_leaf':[1,2,3,4,5,6,7,8,9,10]}\n",
    "params2 = {'alpha':[0.001,0.01,0.1,1,10]}\n",
    "params3 = {'learning_rate':[0.001,0.01,0.1,1]}\n",
    "params4 = {'n_estimators':[10,100,250,500,1000]}\n",
    "\n",
    "#Repetitions\n",
    "reps = range(25)\n",
    "for rep in reps:\n",
    "    \n",
    "    #Kfold loop\n",
    "    kf = KFold(3,random_state=rep,shuffle=True)\n",
    "    for train_index, test_index in kf.split(features):\n",
    "        #Split data\n",
    "        X_train, X_test = features.loc[train_index], features.loc[test_index]\n",
    "        y_train, y_test = target[train_index], target[test_index]\n",
    "        #CART\n",
    "        clf = GridSearchCV(dtree, params1, cv=3)\n",
    "        clf.fit(X_train,y_train)\n",
    "        tree_score.append(clf.best_estimator_.score(X_test,y_test))\n",
    "        #LASSO\n",
    "        clf_lass = GridSearchCV(lass, params2, cv=3)\n",
    "        clf_lass.fit(X_train,y_train)\n",
    "        lasso_score.append(clf_lass.best_estimator_.score(X_test,y_test))\n",
    "        #ADABOOST\n",
    "        clf_ada = GridSearchCV(ada, params3, cv=3)\n",
    "        clf_ada.fit(X_train,y_train)\n",
    "        ada_score.append(clf_ada.best_estimator_.score(X_test,y_test))\n",
    "        #RANDOM FOREST\n",
    "        clf_RF = GridSearchCV(RF, params4, cv=3)\n",
    "        clf_RF.fit(X_train,y_train)\n",
    "        RF_score.append(clf_RF.best_estimator_.score(X_test,y_test))\n",
    "        \n",
    "#Print results\n",
    "print('CART average R-squared:', np.mean(tree_score))\n",
    "print('Lasso average R-squared:', np.mean(lasso_score))\n",
    "print('Ada average R-squared:', np.mean(ada_score))\n",
    "print('RF average R-squared:', np.mean(RF_score))\n",
    "#CART is the best!"
   ]
  },
  {
   "cell_type": "code",
   "execution_count": 17,
   "metadata": {},
   "outputs": [
    {
     "data": {
      "image/png": "[encoded data removed]",
      "text/plain": [
       "<Figure size 1080x432 with 1 Axes>"
      ]
     },
     "metadata": {
      "needs_background": "light"
     },
     "output_type": "display_data"
    }
   ],
   "source": [
    "fig = figure(figsize=(15, 6))\n",
    "plt.boxplot([tree_score,lasso_score,ada_score,RF_score])\n",
    "plt.xlabel('Model')\n",
    "locs,junk = plt.xticks()\n",
    "plt.xticks(locs,['CART','Lasso','AdaBoost','RandomForest'])\n",
    "plt.ylabel('R-squared')\n",
    "plt.show()\n",
    "#RF and Lasso are comparable"
   ]
  },
  {
   "cell_type": "code",
   "execution_count": null,
   "metadata": {},
   "outputs": [],
   "source": [
    "#Still high variation, even with RF. Small data and highly influential examples is likely the cause! "
   ]
  },
  {
   "cell_type": "code",
   "execution_count": null,
   "metadata": {},
   "outputs": [],
   "source": []
  },
  {
   "cell_type": "code",
   "execution_count": null,
   "metadata": {
    "collapsed": true
   },
   "outputs": [],
   "source": []
  },
  {
   "cell_type": "code",
   "execution_count": null,
   "metadata": {
    "collapsed": true
   },
   "outputs": [],
   "source": []
  }
 ],
 "metadata": {
  "kernelspec": {
   "display_name": "Python 3 (ipykernel)",
   "language": "python",
   "name": "python3"
  },
  "language_info": {
   "codemirror_mode": {
    "name": "ipython",
    "version": 3
   },
   "file_extension": ".py",
   "mimetype": "text/x-python",
   "name": "python",
   "nbconvert_exporter": "python",
   "pygments_lexer": "ipython3",
   "version": "3.7.3"
  }
 },
 "nbformat": 4,
 "nbformat_minor": 2
}
