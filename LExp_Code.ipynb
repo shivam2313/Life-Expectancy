{
 "cells": [
  {
   "cell_type": "code",
   "execution_count": 6,
   "metadata": {},
   "outputs": [],
   "source": [
    "#Load packages\n",
    "import matplotlib\n",
    "import matplotlib.pyplot as plt\n",
    "import numpy as np\n",
    "import pandas as pd\n",
    "import seaborn as sns\n",
    "import statsmodels.api as sm\n",
    "from sklearn.linear_model import LogisticRegression\n",
    "from sklearn.model_selection import train_test_split\n",
    "from sklearn.metrics import roc_curve\n",
    "from sklearn.metrics import roc_auc_score\n",
    "from matplotlib.pyplot import plot, show, savefig, xlim, figure, \\\n",
    "                ylim, legend, boxplot, setp, axes\n",
    "from sklearn.metrics import confusion_matrix\n",
    "from sklearn.model_selection import GridSearchCV\n",
    "import pandas as pd\n",
    "from sklearn.linear_model import LinearRegression"
   ]
  },
  {
   "cell_type": "code",
   "execution_count": 9,
   "metadata": {},
   "outputs": [
    {
     "data": {
      "text/html": [
       "<div>\n",
       "<style scoped>\n",
       "    .dataframe tbody tr th:only-of-type {\n",
       "        vertical-align: middle;\n",
       "    }\n",
       "\n",
       "    .dataframe tbody tr th {\n",
       "        vertical-align: top;\n",
       "    }\n",
       "\n",
       "    .dataframe thead th {\n",
       "        text-align: right;\n",
       "    }\n",
       "</style>\n",
       "<table border=\"1\" class=\"dataframe\">\n",
       "  <thead>\n",
       "    <tr style=\"text-align: right;\">\n",
       "      <th></th>\n",
       "      <th>Population</th>\n",
       "      <th>Income</th>\n",
       "      <th>Illiteracy</th>\n",
       "      <th>LifeExp</th>\n",
       "      <th>Murder</th>\n",
       "      <th>HighSchoolGrad</th>\n",
       "      <th>Frost</th>\n",
       "      <th>Area</th>\n",
       "      <th>Longitude</th>\n",
       "      <th>Latitude</th>\n",
       "      <th>Region</th>\n",
       "    </tr>\n",
       "  </thead>\n",
       "  <tbody>\n",
       "    <tr>\n",
       "      <th>0</th>\n",
       "      <td>3615</td>\n",
       "      <td>3624</td>\n",
       "      <td>2.1</td>\n",
       "      <td>69.05</td>\n",
       "      <td>15.1</td>\n",
       "      <td>41.3</td>\n",
       "      <td>20</td>\n",
       "      <td>50708</td>\n",
       "      <td>-86.7509</td>\n",
       "      <td>32.5901</td>\n",
       "      <td>South</td>\n",
       "    </tr>\n",
       "    <tr>\n",
       "      <th>1</th>\n",
       "      <td>365</td>\n",
       "      <td>6315</td>\n",
       "      <td>1.5</td>\n",
       "      <td>69.31</td>\n",
       "      <td>11.3</td>\n",
       "      <td>66.7</td>\n",
       "      <td>152</td>\n",
       "      <td>566432</td>\n",
       "      <td>-127.2500</td>\n",
       "      <td>49.2500</td>\n",
       "      <td>West</td>\n",
       "    </tr>\n",
       "    <tr>\n",
       "      <th>2</th>\n",
       "      <td>2212</td>\n",
       "      <td>4530</td>\n",
       "      <td>1.8</td>\n",
       "      <td>70.55</td>\n",
       "      <td>7.8</td>\n",
       "      <td>58.1</td>\n",
       "      <td>15</td>\n",
       "      <td>113417</td>\n",
       "      <td>-111.6250</td>\n",
       "      <td>34.2192</td>\n",
       "      <td>West</td>\n",
       "    </tr>\n",
       "    <tr>\n",
       "      <th>3</th>\n",
       "      <td>2110</td>\n",
       "      <td>3378</td>\n",
       "      <td>1.9</td>\n",
       "      <td>70.66</td>\n",
       "      <td>10.1</td>\n",
       "      <td>39.9</td>\n",
       "      <td>65</td>\n",
       "      <td>51945</td>\n",
       "      <td>-92.2992</td>\n",
       "      <td>34.7336</td>\n",
       "      <td>South</td>\n",
       "    </tr>\n",
       "    <tr>\n",
       "      <th>4</th>\n",
       "      <td>21198</td>\n",
       "      <td>5114</td>\n",
       "      <td>1.1</td>\n",
       "      <td>71.71</td>\n",
       "      <td>10.3</td>\n",
       "      <td>62.6</td>\n",
       "      <td>20</td>\n",
       "      <td>156361</td>\n",
       "      <td>-119.7730</td>\n",
       "      <td>36.5341</td>\n",
       "      <td>West</td>\n",
       "    </tr>\n",
       "  </tbody>\n",
       "</table>\n",
       "</div>"
      ],
      "text/plain": [
       "   Population  Income  Illiteracy  LifeExp  Murder  HighSchoolGrad  Frost  \\\n",
       "0        3615    3624         2.1    69.05    15.1            41.3     20   \n",
       "1         365    6315         1.5    69.31    11.3            66.7    152   \n",
       "2        2212    4530         1.8    70.55     7.8            58.1     15   \n",
       "3        2110    3378         1.9    70.66    10.1            39.9     65   \n",
       "4       21198    5114         1.1    71.71    10.3            62.6     20   \n",
       "\n",
       "     Area  Longitude  Latitude Region  \n",
       "0   50708   -86.7509   32.5901  South  \n",
       "1  566432  -127.2500   49.2500   West  \n",
       "2  113417  -111.6250   34.2192   West  \n",
       "3   51945   -92.2992   34.7336  South  \n",
       "4  156361  -119.7730   36.5341   West  "
      ]
     },
     "execution_count": 9,
     "metadata": {},
     "output_type": "execute_result"
    }
   ],
   "source": [
    "#Load data\n",
    "SD = pd.read_csv(\"/Users/shivamsrivastav/Desktop/Madison/Fall 21/Machine Learning/Assignment/StateData.csv\") #Read CSV\n",
    "SD.head()"
   ]
  },
  {
   "cell_type": "code",
   "execution_count": 17,
   "metadata": {},
   "outputs": [
    {
     "data": {
      "image/png": "[encoded data removed]",
      "text/plain": [
       "<Figure size 432x288 with 1 Axes>"
      ]
     },
     "metadata": {
      "needs_background": "light"
     },
     "output_type": "display_data"
    }
   ],
   "source": [
    "#Scatterplot\n",
    "plt.scatter(x=SD['Longitude'], y=SD['Latitude'])\n",
    "plt.show()"
   ]
  },
  {
   "cell_type": "code",
   "execution_count": 19,
   "metadata": {},
   "outputs": [],
   "source": [
    "Lat = SD[\"Latitude\"]\n",
    "Frost = SD [\"Frost\"]"
   ]
  },
  {
   "cell_type": "code",
   "execution_count": 29,
   "metadata": {},
   "outputs": [
    {
     "data": {
      "text/plain": [
       "27.8744"
      ]
     },
     "execution_count": 29,
     "metadata": {},
     "output_type": "execute_result"
    }
   ],
   "source": [
    "Lat.min()"
   ]
  },
  {
   "cell_type": "code",
   "execution_count": 32,
   "metadata": {},
   "outputs": [
    {
     "data": {
      "text/html": [
       "<div>\n",
       "<style scoped>\n",
       "    .dataframe tbody tr th:only-of-type {\n",
       "        vertical-align: middle;\n",
       "    }\n",
       "\n",
       "    .dataframe tbody tr th {\n",
       "        vertical-align: top;\n",
       "    }\n",
       "\n",
       "    .dataframe thead th {\n",
       "        text-align: right;\n",
       "    }\n",
       "</style>\n",
       "<table border=\"1\" class=\"dataframe\">\n",
       "  <thead>\n",
       "    <tr style=\"text-align: right;\">\n",
       "      <th></th>\n",
       "      <th>Population</th>\n",
       "      <th>Income</th>\n",
       "      <th>Illiteracy</th>\n",
       "      <th>LifeExp</th>\n",
       "      <th>Murder</th>\n",
       "      <th>HighSchoolGrad</th>\n",
       "      <th>Frost</th>\n",
       "      <th>Area</th>\n",
       "      <th>Longitude</th>\n",
       "      <th>Latitude</th>\n",
       "      <th>Region</th>\n",
       "    </tr>\n",
       "  </thead>\n",
       "  <tbody>\n",
       "    <tr>\n",
       "      <th>8</th>\n",
       "      <td>8277</td>\n",
       "      <td>4815</td>\n",
       "      <td>1.3</td>\n",
       "      <td>70.66</td>\n",
       "      <td>10.7</td>\n",
       "      <td>52.6</td>\n",
       "      <td>11</td>\n",
       "      <td>54090</td>\n",
       "      <td>-81.685</td>\n",
       "      <td>27.8744</td>\n",
       "      <td>South</td>\n",
       "    </tr>\n",
       "  </tbody>\n",
       "</table>\n",
       "</div>"
      ],
      "text/plain": [
       "   Population  Income  Illiteracy  LifeExp  Murder  HighSchoolGrad  Frost  \\\n",
       "8        8277    4815         1.3    70.66    10.7            52.6     11   \n",
       "\n",
       "    Area  Longitude  Latitude Region  \n",
       "8  54090    -81.685   27.8744  South  "
      ]
     },
     "execution_count": 32,
     "metadata": {},
     "output_type": "execute_result"
    }
   ],
   "source": [
    "(SD.loc[SD['Latitude'] == 27.8744])"
   ]
  },
  {
   "cell_type": "code",
   "execution_count": 26,
   "metadata": {},
   "outputs": [
    {
     "data": {
      "text/plain": [
       "0"
      ]
     },
     "execution_count": 26,
     "metadata": {},
     "output_type": "execute_result"
    }
   ],
   "source": [
    "Frost.min()"
   ]
  },
  {
   "cell_type": "code",
   "execution_count": 33,
   "metadata": {},
   "outputs": [
    {
     "data": {
      "text/html": [
       "<div>\n",
       "<style scoped>\n",
       "    .dataframe tbody tr th:only-of-type {\n",
       "        vertical-align: middle;\n",
       "    }\n",
       "\n",
       "    .dataframe tbody tr th {\n",
       "        vertical-align: top;\n",
       "    }\n",
       "\n",
       "    .dataframe thead th {\n",
       "        text-align: right;\n",
       "    }\n",
       "</style>\n",
       "<table border=\"1\" class=\"dataframe\">\n",
       "  <thead>\n",
       "    <tr style=\"text-align: right;\">\n",
       "      <th></th>\n",
       "      <th>Population</th>\n",
       "      <th>Income</th>\n",
       "      <th>Illiteracy</th>\n",
       "      <th>LifeExp</th>\n",
       "      <th>Murder</th>\n",
       "      <th>HighSchoolGrad</th>\n",
       "      <th>Frost</th>\n",
       "      <th>Area</th>\n",
       "      <th>Longitude</th>\n",
       "      <th>Latitude</th>\n",
       "      <th>Region</th>\n",
       "    </tr>\n",
       "  </thead>\n",
       "  <tbody>\n",
       "    <tr>\n",
       "      <th>10</th>\n",
       "      <td>868</td>\n",
       "      <td>4963</td>\n",
       "      <td>1.9</td>\n",
       "      <td>73.6</td>\n",
       "      <td>6.2</td>\n",
       "      <td>61.9</td>\n",
       "      <td>0</td>\n",
       "      <td>6425</td>\n",
       "      <td>-126.25</td>\n",
       "      <td>31.75</td>\n",
       "      <td>West</td>\n",
       "    </tr>\n",
       "  </tbody>\n",
       "</table>\n",
       "</div>"
      ],
      "text/plain": [
       "    Population  Income  Illiteracy  LifeExp  Murder  HighSchoolGrad  Frost  \\\n",
       "10         868    4963         1.9     73.6     6.2            61.9      0   \n",
       "\n",
       "    Area  Longitude  Latitude Region  \n",
       "10  6425    -126.25     31.75   West  "
      ]
     },
     "execution_count": 33,
     "metadata": {},
     "output_type": "execute_result"
    }
   ],
   "source": [
    "(SD.loc[SD['Frost'] == 0])"
   ]
  },
  {
   "cell_type": "code",
   "execution_count": 36,
   "metadata": {},
   "outputs": [
    {
     "data": {
      "text/plain": [
       "8"
      ]
     },
     "execution_count": 36,
     "metadata": {},
     "output_type": "execute_result"
    }
   ],
   "source": [
    "SD[\"Latitude\"].idxmin()"
   ]
  },
  {
   "cell_type": "code",
   "execution_count": 72,
   "metadata": {},
   "outputs": [],
   "source": [
    "Grad_Rate = SD.groupby('Region')['HighSchoolGrad'].mean()"
   ]
  },
  {
   "cell_type": "code",
   "execution_count": 73,
   "metadata": {},
   "outputs": [
    {
     "data": {
      "text/plain": [
       "Region\n",
       "North Central    54.516667\n",
       "Northeast        53.966667\n",
       "South            44.343750\n",
       "West             62.000000\n",
       "Name: HighSchoolGrad, dtype: float64"
      ]
     },
     "execution_count": 73,
     "metadata": {},
     "output_type": "execute_result"
    }
   ],
   "source": [
    "Grad_Rate"
   ]
  },
  {
   "cell_type": "code",
   "execution_count": 55,
   "metadata": {},
   "outputs": [
    {
     "data": {
      "text/plain": [
       "'West'"
      ]
     },
     "execution_count": 55,
     "metadata": {},
     "output_type": "execute_result"
    }
   ],
   "source": [
    "Grad_Rate.idxmax()"
   ]
  },
  {
   "cell_type": "code",
   "execution_count": 56,
   "metadata": {},
   "outputs": [],
   "source": [
    "HS_Grad_Rate = SD.groupby('Region')['HighSchoolGrad']"
   ]
  },
  {
   "cell_type": "code",
   "execution_count": 61,
   "metadata": {},
   "outputs": [],
   "source": [
    "distribution = SD['HighSchoolGrad']\n",
    "weights = SD['Population']"
   ]
  },
  {
   "cell_type": "code",
   "execution_count": 74,
   "metadata": {},
   "outputs": [],
   "source": [
    "def wavg(group, avg_name, weight_name):\n",
    "    d = group[avg_name]\n",
    "    w = group[weight_name]\n",
    "    try:\n",
    "        return (d * w).sum() / w.sum()\n",
    "    except ZeroDivisionError:\n",
    "        return d.mean()"
   ]
  },
  {
   "cell_type": "code",
   "execution_count": 76,
   "metadata": {},
   "outputs": [],
   "source": [
    "Weighted_Avg = SD.groupby([\"Region\"]).apply(wavg, \"HighSchoolGrad\", \"Population\")"
   ]
  },
  {
   "cell_type": "code",
   "execution_count": 77,
   "metadata": {},
   "outputs": [
    {
     "data": {
      "text/plain": [
       "Region\n",
       "North Central    53.716965\n",
       "Northeast        53.006149\n",
       "South            44.952587\n",
       "West             62.211639\n",
       "dtype: float64"
      ]
     },
     "execution_count": 77,
     "metadata": {},
     "output_type": "execute_result"
    }
   ],
   "source": [
    "Weighted_Avg"
   ]
  },
  {
   "cell_type": "code",
   "execution_count": 79,
   "metadata": {},
   "outputs": [
    {
     "data": {
      "text/plain": [
       "'West'"
      ]
     },
     "execution_count": 79,
     "metadata": {},
     "output_type": "execute_result"
    }
   ],
   "source": [
    "Weighted_Avg.idxmax()"
   ]
  },
  {
   "cell_type": "code",
   "execution_count": 86,
   "metadata": {},
   "outputs": [
    {
     "data": {
      "text/plain": [
       "<matplotlib.axes._subplots.AxesSubplot at 0x1c1e8af208>"
      ]
     },
     "execution_count": 86,
     "metadata": {},
     "output_type": "execute_result"
    },
    {
     "data": {
      "image/png": "[encoded data removed]",
      "text/plain": [
       "<Figure size 432x288 with 1 Axes>"
      ]
     },
     "metadata": {
      "needs_background": "light"
     },
     "output_type": "display_data"
    }
   ],
   "source": [
    "#Boxplot of murders\n",
    "sns.boxplot(x ='Region', y ='Murder', data = SD)"
   ]
  },
  {
   "cell_type": "code",
   "execution_count": 90,
   "metadata": {},
   "outputs": [],
   "source": [
    "DF = SD.groupby(['Region']).median()"
   ]
  },
  {
   "cell_type": "code",
   "execution_count": 94,
   "metadata": {},
   "outputs": [
    {
     "name": "stdout",
     "output_type": "stream",
     "text": [
      "South\n"
     ]
    }
   ],
   "source": [
    "High_Median_Murder_Rate = DF['Murder'].idxmax()\n",
    "print(High_Median_Murder_Rate)"
   ]
  },
  {
   "cell_type": "code",
   "execution_count": 95,
   "metadata": {},
   "outputs": [],
   "source": [
    "DF_Max = SD.groupby(['Region']).max()\n",
    "DF_Min = SD.groupby(['Region']).min()\n",
    "DF_Range = DF_Max - DF_Min"
   ]
  },
  {
   "cell_type": "code",
   "execution_count": 96,
   "metadata": {},
   "outputs": [
    {
     "name": "stdout",
     "output_type": "stream",
     "text": [
      "North Central\n"
     ]
    }
   ],
   "source": [
    "Max_Range = DF_Range['Murder'].idxmax()\n",
    "print(Max_Range)"
   ]
  },
  {
   "cell_type": "code",
   "execution_count": 35,
   "metadata": {},
   "outputs": [
    {
     "data": {
      "text/plain": [
       "LinearRegression(copy_X=True, fit_intercept=True, n_jobs=None,\n",
       "         normalize=False)"
      ]
     },
     "execution_count": 35,
     "metadata": {},
     "output_type": "execute_result"
    }
   ],
   "source": [
    "#Regression Equation\n",
    "X = SD[[\"Population\", \"Income\", \"Illiteracy\", \"Murder\", \"HighSchoolGrad\", \"Frost\", \"Area\"]]\n",
    "Y = SD[\"LifeExp\"]\n",
    "L_reg1 = LinearRegression()\n",
    "L_reg1.fit(X,Y)"
   ]
  },
  {
   "cell_type": "code",
   "execution_count": 39,
   "metadata": {},
   "outputs": [
    {
     "data": {
      "text/html": [
       "<div>\n",
       "<style scoped>\n",
       "    .dataframe tbody tr th:only-of-type {\n",
       "        vertical-align: middle;\n",
       "    }\n",
       "\n",
       "    .dataframe tbody tr th {\n",
       "        vertical-align: top;\n",
       "    }\n",
       "\n",
       "    .dataframe thead th {\n",
       "        text-align: right;\n",
       "    }\n",
       "</style>\n",
       "<table border=\"1\" class=\"dataframe\">\n",
       "  <thead>\n",
       "    <tr style=\"text-align: right;\">\n",
       "      <th></th>\n",
       "      <th>Coefficient</th>\n",
       "    </tr>\n",
       "  </thead>\n",
       "  <tbody>\n",
       "    <tr>\n",
       "      <th>Population</th>\n",
       "      <td>5.180036e-05</td>\n",
       "    </tr>\n",
       "    <tr>\n",
       "      <th>Income</th>\n",
       "      <td>-2.180424e-05</td>\n",
       "    </tr>\n",
       "    <tr>\n",
       "      <th>Illiteracy</th>\n",
       "      <td>3.382032e-02</td>\n",
       "    </tr>\n",
       "    <tr>\n",
       "      <th>Murder</th>\n",
       "      <td>-3.011232e-01</td>\n",
       "    </tr>\n",
       "    <tr>\n",
       "      <th>HighSchoolGrad</th>\n",
       "      <td>4.892948e-02</td>\n",
       "    </tr>\n",
       "    <tr>\n",
       "      <th>Frost</th>\n",
       "      <td>-5.735001e-03</td>\n",
       "    </tr>\n",
       "    <tr>\n",
       "      <th>Area</th>\n",
       "      <td>-7.383166e-08</td>\n",
       "    </tr>\n",
       "  </tbody>\n",
       "</table>\n",
       "</div>"
      ],
      "text/plain": [
       "                 Coefficient\n",
       "Population      5.180036e-05\n",
       "Income         -2.180424e-05\n",
       "Illiteracy      3.382032e-02\n",
       "Murder         -3.011232e-01\n",
       "HighSchoolGrad  4.892948e-02\n",
       "Frost          -5.735001e-03\n",
       "Area           -7.383166e-08"
      ]
     },
     "execution_count": 39,
     "metadata": {},
     "output_type": "execute_result"
    }
   ],
   "source": [
    "#Regression Coefficient\n",
    "SD_Coeff = pd.DataFrame(L_reg1.coef_, X.columns, columns=['Coefficient'])\n",
    "SD_Coeff\n"
   ]
  },
  {
   "cell_type": "code",
   "execution_count": 40,
   "metadata": {},
   "outputs": [
    {
     "data": {
      "text/plain": [
       "70.94322411112941"
      ]
     },
     "execution_count": 40,
     "metadata": {},
     "output_type": "execute_result"
    }
   ],
   "source": [
    "#Interception \n",
    "L_reg1.intercept_"
   ]
  },
  {
   "cell_type": "code",
   "execution_count": 43,
   "metadata": {},
   "outputs": [
    {
     "name": "stdout",
     "output_type": "stream",
     "text": [
      "                            OLS Regression Results                            \n",
      "==============================================================================\n",
      "Dep. Variable:                LifeExp   R-squared:                       0.736\n",
      "Model:                            OLS   Adj. R-squared:                  0.692\n",
      "Method:                 Least Squares   F-statistic:                     16.74\n",
      "Date:                Tue, 12 Oct 2021   Prob (F-statistic):           2.53e-10\n",
      "Time:                        00:09:26   Log-Likelihood:                -51.855\n",
      "No. Observations:                  50   AIC:                             119.7\n",
      "Df Residuals:                      42   BIC:                             135.0\n",
      "Df Model:                           7                                         \n",
      "Covariance Type:            nonrobust                                         \n",
      "==================================================================================\n",
      "                     coef    std err          t      P>|t|      [0.025      0.975]\n",
      "----------------------------------------------------------------------------------\n",
      "Population       5.18e-05   2.92e-05      1.775      0.083    -7.1e-06       0.000\n",
      "Income          -2.18e-05      0.000     -0.089      0.929      -0.001       0.000\n",
      "Illiteracy         0.0338      0.366      0.092      0.927      -0.705       0.773\n",
      "Murder            -0.3011      0.047     -6.459      0.000      -0.395      -0.207\n",
      "HighSchoolGrad     0.0489      0.023      2.098      0.042       0.002       0.096\n",
      "Frost             -0.0057      0.003     -1.825      0.075      -0.012       0.001\n",
      "Area           -7.383e-08   1.67e-06     -0.044      0.965   -3.44e-06    3.29e-06\n",
      "const             70.9432      1.748     40.586      0.000      67.416      74.471\n",
      "==============================================================================\n",
      "Omnibus:                        2.385   Durbin-Watson:                   1.929\n",
      "Prob(Omnibus):                  0.303   Jarque-Bera (JB):                1.420\n",
      "Skew:                          -0.081   Prob(JB):                        0.492\n",
      "Kurtosis:                       2.190   Cond. No.                     1.85e+06\n",
      "==============================================================================\n",
      "\n",
      "Warnings:\n",
      "[1] Standard Errors assume that the covariance matrix of the errors is correctly specified.\n",
      "[2] The condition number is large, 1.85e+06. This might indicate that there are\n",
      "strong multicollinearity or other numerical problems.\n"
     ]
    }
   ],
   "source": [
    "# StatModel Liner Regression\n",
    "import statsmodels.api as sm\n",
    "X = SD.LifeExp\n",
    "Y = sm.add_constant(SD[['Population','Income','Illiteracy','Murder', 'HighSchoolGrad', 'Frost', 'Area']], prepend=False)\n",
    "\n",
    "Model_1 = sm.OLS(X,Y)\n",
    "Stat_Mod1 = Model_1.fit()\n",
    "print(Stat_Mod1.summary())"
   ]
  },
  {
   "cell_type": "code",
   "execution_count": 113,
   "metadata": {},
   "outputs": [
    {
     "data": {
      "image/png": "[encoded data removed]",
      "text/plain": [
       "<Figure size 432x288 with 1 Axes>"
      ]
     },
     "metadata": {
      "needs_background": "light"
     },
     "output_type": "display_data"
    }
   ],
   "source": [
    "#Scatter Plot for Income v/s Life Exp\n",
    "plt1 = SD.plot.scatter(x=\"Income\",y='LifeExp',color='Blue')"
   ]
  },
  {
   "cell_type": "code",
   "execution_count": 116,
   "metadata": {},
   "outputs": [
    {
     "data": {
      "text/plain": [
       "<Figure size 432x288 with 0 Axes>"
      ]
     },
     "metadata": {},
     "output_type": "display_data"
    }
   ],
   "source": [
    "plt.savefig('foo.pdf')"
   ]
  },
  {
   "cell_type": "code",
   "execution_count": 46,
   "metadata": {},
   "outputs": [
    {
     "name": "stdout",
     "output_type": "stream",
     "text": [
      "                            OLS Regression Results                            \n",
      "==============================================================================\n",
      "Dep. Variable:                LifeExp   R-squared:                       0.713\n",
      "Model:                            OLS   Adj. R-squared:                  0.694\n",
      "Method:                 Least Squares   F-statistic:                     38.03\n",
      "Date:                Tue, 12 Oct 2021   Prob (F-statistic):           1.63e-12\n",
      "Time:                        00:13:52   Log-Likelihood:                -53.987\n",
      "No. Observations:                  50   AIC:                             116.0\n",
      "Df Residuals:                      46   BIC:                             123.6\n",
      "Df Model:                           3                                         \n",
      "Covariance Type:            nonrobust                                         \n",
      "==================================================================================\n",
      "                     coef    std err          t      P>|t|      [0.025      0.975]\n",
      "----------------------------------------------------------------------------------\n",
      "Murder            -0.2831      0.037     -7.706      0.000      -0.357      -0.209\n",
      "HighSchoolGrad     0.0499      0.015      3.286      0.002       0.019       0.081\n",
      "Frost             -0.0069      0.002     -2.824      0.007      -0.012      -0.002\n",
      "const             71.0364      0.983     72.246      0.000      69.057      73.016\n",
      "==============================================================================\n",
      "Omnibus:                        5.102   Durbin-Watson:                   1.794\n",
      "Prob(Omnibus):                  0.078   Jarque-Bera (JB):                2.569\n",
      "Skew:                          -0.290   Prob(JB):                        0.277\n",
      "Kurtosis:                       2.053   Cond. No.                     1.19e+03\n",
      "==============================================================================\n",
      "\n",
      "Warnings:\n",
      "[1] Standard Errors assume that the covariance matrix of the errors is correctly specified.\n",
      "[2] The condition number is large, 1.19e+03. This might indicate that there are\n",
      "strong multicollinearity or other numerical problems.\n"
     ]
    }
   ],
   "source": [
    "#Regression Equation with 3 features\n",
    "import statsmodels.api as sm\n",
    "\n",
    "X = SD.LifeExp\n",
    "Y = sm.add_constant(SD[['Murder', 'HighSchoolGrad', 'Frost']], prepend=False)\n",
    "\n",
    "Model_2 = sm.OLS(X,Y)\n",
    "Stat_Mod2 = Model_2.fit()\n",
    "print(Stat_Mod2.summary())"
   ]
  },
  {
   "cell_type": "code",
   "execution_count": 122,
   "metadata": {},
   "outputs": [
    {
     "data": {
      "text/plain": [
       "<matplotlib.axes._subplots.AxesSubplot at 0x1c1ec7cf98>"
      ]
     },
     "execution_count": 122,
     "metadata": {},
     "output_type": "execute_result"
    },
    {
     "data": {
      "image/png": "[encoded data removed]",
      "text/plain": [
       "<Figure size 432x288 with 1 Axes>"
      ]
     },
     "metadata": {
      "needs_background": "light"
     },
     "output_type": "display_data"
    }
   ],
   "source": [
    "#Scatter Plot for Frost v/s Life Exp\n",
    "SD.plot.scatter(x=\"Frost\",y='LifeExp',color='green')"
   ]
  },
  {
   "cell_type": "code",
   "execution_count": 49,
   "metadata": {},
   "outputs": [
    {
     "data": {
      "text/plain": [
       "188"
      ]
     },
     "execution_count": 49,
     "metadata": {},
     "output_type": "execute_result"
    }
   ],
   "source": [
    "#Range of Frost Available\n",
    "Range = max(SD[\"Frost\"])-min(SD[\"Frost\"])\n",
    "Range"
   ]
  },
  {
   "cell_type": "code",
   "execution_count": 41,
   "metadata": {},
   "outputs": [
    {
     "data": {
      "text/plain": [
       "1.2994061089502758"
      ]
     },
     "execution_count": 41,
     "metadata": {},
     "output_type": "execute_result"
    }
   ],
   "source": [
    "#Years of LifeExp eqaute:\n",
    "Yrs = Range * L_reg2.coef_[2]\n",
    "-Yrs"
   ]
  },
  {
   "cell_type": "code",
   "execution_count": null,
   "metadata": {},
   "outputs": [],
   "source": []
  }
 ],
 "metadata": {
  "kernelspec": {
   "display_name": "Python 3",
   "language": "python",
   "name": "python3"
  },
  "language_info": {
   "codemirror_mode": {
    "name": "ipython",
    "version": 3
   },
   "file_extension": ".py",
   "mimetype": "text/x-python",
   "name": "python",
   "nbconvert_exporter": "python",
   "pygments_lexer": "ipython3",
   "version": "3.7.3"
  }
 },
 "nbformat": 4,
 "nbformat_minor": 2
}
